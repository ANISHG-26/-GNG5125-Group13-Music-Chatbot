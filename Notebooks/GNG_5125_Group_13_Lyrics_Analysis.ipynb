{
  "nbformat": 4,
  "nbformat_minor": 0,
  "metadata": {
    "colab": {
      "provenance": []
    },
    "kernelspec": {
      "name": "python3",
      "display_name": "Python 3"
    },
    "language_info": {
      "name": "python"
    }
  },
  "cells": [
    {
      "cell_type": "markdown",
      "source": [
        "# **Text Feature Exploration**\n",
        "\n",
        "## **Group 13**\n",
        "\n",
        "Anish George <br>\n",
        "Drishya P Suresh <br>\n",
        "Sashank Konathala <br>\n",
        "Shora Ngarambe <br>"
      ],
      "metadata": {
        "id": "ApevsNPWPqh3"
      }
    },
    {
      "cell_type": "markdown",
      "source": [
        "The purpose of this notebook is to explore whether we can use the lyrics to predict the mood of a song accurately and incorporate that in our recommendation system instead or in combination with valence."
      ],
      "metadata": {
        "id": "aHjbLzFLdxKh"
      }
    },
    {
      "cell_type": "markdown",
      "source": [
        "# Import libraries"
      ],
      "metadata": {
        "id": "V8qZIfzEVTrn"
      }
    },
    {
      "cell_type": "code",
      "source": [
        "#Pandas and Numoy libraries\n",
        "import pandas as pd\n",
        "import numpy as np\n",
        "\n",
        "#Classifiers\n",
        "from sklearn.naive_bayes import BernoulliNB\n",
        "from sklearn.tree import DecisionTreeClassifier\n",
        "\n",
        "#Visualizations and metrics libraries\n",
        "from sklearn import metrics\n",
        "import seaborn as sns\n",
        "import matplotlib.pyplot as plt\n",
        "from sklearn.metrics import accuracy_score, precision_score, recall_score, f1_score, confusion_matrix\n",
        "from sklearn.metrics import ConfusionMatrixDisplay\n",
        "\n",
        "#Language processing libraries\n",
        "import nltk\n",
        "from nltk.tokenize import word_tokenize\n",
        "from nltk.corpus import stopwords\n",
        "from nltk.stem import PorterStemmer\n",
        "from nltk.tokenize import RegexpTokenizer\n",
        "import re\n",
        "\n",
        "import uuid"
      ],
      "metadata": {
        "id": "1Jcuo7pPJ_et"
      },
      "execution_count": null,
      "outputs": []
    },
    {
      "cell_type": "markdown",
      "source": [
        "# Read in and clean the data"
      ],
      "metadata": {
        "id": "lW-aVvKaZdJI"
      }
    },
    {
      "cell_type": "code",
      "source": [
        "dat = pd.read_csv(\"/content/drive/MyDrive/Colab Notebooks/labeled_lyrics_cleaned.csv\")\n",
        "unique_ids = [str(uuid.uuid4().hex)[:8] for _ in range(len(dat))]\n",
        "dat['id'] = unique_ids\n",
        "print(dat.head())"
      ],
      "metadata": {
        "colab": {
          "base_uri": "https://localhost:8080/"
        },
        "id": "SxeUEK2NK88z",
        "outputId": "e78c7c95-bfc3-4c52-b3d0-d4f675c63638"
      },
      "execution_count": null,
      "outputs": [
        {
          "output_type": "stream",
          "name": "stdout",
          "text": [
            "   Unnamed: 0        artist  \\\n",
            "0           0  Elijah Blake   \n",
            "1           1  Elijah Blake   \n",
            "2           2  Elijah Blake   \n",
            "3           3  Elijah Blake   \n",
            "4           4  Elijah Blake   \n",
            "\n",
            "                                                 seq                song  \\\n",
            "0  No, no\\r\\nI ain't ever trapped out the bando\\r...            Everyday   \n",
            "1  The drinks go down and smoke goes up, I feel m...    Live Till We Die   \n",
            "2  She don't live on planet Earth no more\\r\\nShe ...       The Otherside   \n",
            "3  Trippin' off that Grigio, mobbin', lights low\\...               Pinot   \n",
            "4  I see a midnight panther, so gallant and so br...  Shadows & Diamonds   \n",
            "\n",
            "   label        id  \n",
            "0  0.626  624cec74  \n",
            "1  0.630  2c6ce421  \n",
            "2  0.240  d738b9c5  \n",
            "3  0.536  8ab82015  \n",
            "4  0.371  29ebe3e8  \n"
          ]
        }
      ]
    },
    {
      "cell_type": "code",
      "source": [
        "dat"
      ],
      "metadata": {
        "colab": {
          "base_uri": "https://localhost:8080/",
          "height": 423
        },
        "id": "_EFXNU70f86X",
        "outputId": "012840b2-0ce7-4dec-9ffb-38c511eeb4e3"
      },
      "execution_count": null,
      "outputs": [
        {
          "output_type": "execute_result",
          "data": {
            "text/plain": [
              "        Unnamed: 0        artist  \\\n",
              "0                0  Elijah Blake   \n",
              "1                1  Elijah Blake   \n",
              "2                2  Elijah Blake   \n",
              "3                3  Elijah Blake   \n",
              "4                4  Elijah Blake   \n",
              "...            ...           ...   \n",
              "158348      158348    Adam Green   \n",
              "158349      158349    Adam Green   \n",
              "158350      158350    Adam Green   \n",
              "158351      158351    Adam Green   \n",
              "158352      158352    Adam Green   \n",
              "\n",
              "                                                      seq                song  \\\n",
              "0       No, no\\r\\nI ain't ever trapped out the bando\\r...            Everyday   \n",
              "1       The drinks go down and smoke goes up, I feel m...    Live Till We Die   \n",
              "2       She don't live on planet Earth no more\\r\\nShe ...       The Otherside   \n",
              "3       Trippin' off that Grigio, mobbin', lights low\\...               Pinot   \n",
              "4       I see a midnight panther, so gallant and so br...  Shadows & Diamonds   \n",
              "...                                                   ...                 ...   \n",
              "158348  And we live on borrowed time,\\r\\nBut this head...     Friends of Mine   \n",
              "158349  Frozin in time forever\\r\\nCarrying that torch ...      Frozen in Time   \n",
              "158350  Hard to be a girl. \\r\\nSo nice to be a boy. \\r...   Hard to Be a Girl   \n",
              "158351  I want to chose to die,\\r\\nAnd be buried with ...         I Wanna Die   \n",
              "158352  Musical ladders\\r\\nLeaning on mountains\\r\\nBat...     Musical Ladders   \n",
              "\n",
              "        label        id  \n",
              "0       0.626  624cec74  \n",
              "1       0.630  2c6ce421  \n",
              "2       0.240  d738b9c5  \n",
              "3       0.536  8ab82015  \n",
              "4       0.371  29ebe3e8  \n",
              "...       ...       ...  \n",
              "158348  0.737  56de8fe9  \n",
              "158349  0.482  6de38bf5  \n",
              "158350  0.733  8b0d90d6  \n",
              "158351  0.361  6a2b7cde  \n",
              "158352  0.263  b9804ab4  \n",
              "\n",
              "[158353 rows x 6 columns]"
            ],
            "text/html": [
              "\n",
              "  <div id=\"df-b6b8e0cd-343d-4d0b-a24c-85f0967bc262\">\n",
              "    <div class=\"colab-df-container\">\n",
              "      <div>\n",
              "<style scoped>\n",
              "    .dataframe tbody tr th:only-of-type {\n",
              "        vertical-align: middle;\n",
              "    }\n",
              "\n",
              "    .dataframe tbody tr th {\n",
              "        vertical-align: top;\n",
              "    }\n",
              "\n",
              "    .dataframe thead th {\n",
              "        text-align: right;\n",
              "    }\n",
              "</style>\n",
              "<table border=\"1\" class=\"dataframe\">\n",
              "  <thead>\n",
              "    <tr style=\"text-align: right;\">\n",
              "      <th></th>\n",
              "      <th>Unnamed: 0</th>\n",
              "      <th>artist</th>\n",
              "      <th>seq</th>\n",
              "      <th>song</th>\n",
              "      <th>label</th>\n",
              "      <th>id</th>\n",
              "    </tr>\n",
              "  </thead>\n",
              "  <tbody>\n",
              "    <tr>\n",
              "      <th>0</th>\n",
              "      <td>0</td>\n",
              "      <td>Elijah Blake</td>\n",
              "      <td>No, no\\r\\nI ain't ever trapped out the bando\\r...</td>\n",
              "      <td>Everyday</td>\n",
              "      <td>0.626</td>\n",
              "      <td>624cec74</td>\n",
              "    </tr>\n",
              "    <tr>\n",
              "      <th>1</th>\n",
              "      <td>1</td>\n",
              "      <td>Elijah Blake</td>\n",
              "      <td>The drinks go down and smoke goes up, I feel m...</td>\n",
              "      <td>Live Till We Die</td>\n",
              "      <td>0.630</td>\n",
              "      <td>2c6ce421</td>\n",
              "    </tr>\n",
              "    <tr>\n",
              "      <th>2</th>\n",
              "      <td>2</td>\n",
              "      <td>Elijah Blake</td>\n",
              "      <td>She don't live on planet Earth no more\\r\\nShe ...</td>\n",
              "      <td>The Otherside</td>\n",
              "      <td>0.240</td>\n",
              "      <td>d738b9c5</td>\n",
              "    </tr>\n",
              "    <tr>\n",
              "      <th>3</th>\n",
              "      <td>3</td>\n",
              "      <td>Elijah Blake</td>\n",
              "      <td>Trippin' off that Grigio, mobbin', lights low\\...</td>\n",
              "      <td>Pinot</td>\n",
              "      <td>0.536</td>\n",
              "      <td>8ab82015</td>\n",
              "    </tr>\n",
              "    <tr>\n",
              "      <th>4</th>\n",
              "      <td>4</td>\n",
              "      <td>Elijah Blake</td>\n",
              "      <td>I see a midnight panther, so gallant and so br...</td>\n",
              "      <td>Shadows &amp; Diamonds</td>\n",
              "      <td>0.371</td>\n",
              "      <td>29ebe3e8</td>\n",
              "    </tr>\n",
              "    <tr>\n",
              "      <th>...</th>\n",
              "      <td>...</td>\n",
              "      <td>...</td>\n",
              "      <td>...</td>\n",
              "      <td>...</td>\n",
              "      <td>...</td>\n",
              "      <td>...</td>\n",
              "    </tr>\n",
              "    <tr>\n",
              "      <th>158348</th>\n",
              "      <td>158348</td>\n",
              "      <td>Adam Green</td>\n",
              "      <td>And we live on borrowed time,\\r\\nBut this head...</td>\n",
              "      <td>Friends of Mine</td>\n",
              "      <td>0.737</td>\n",
              "      <td>56de8fe9</td>\n",
              "    </tr>\n",
              "    <tr>\n",
              "      <th>158349</th>\n",
              "      <td>158349</td>\n",
              "      <td>Adam Green</td>\n",
              "      <td>Frozin in time forever\\r\\nCarrying that torch ...</td>\n",
              "      <td>Frozen in Time</td>\n",
              "      <td>0.482</td>\n",
              "      <td>6de38bf5</td>\n",
              "    </tr>\n",
              "    <tr>\n",
              "      <th>158350</th>\n",
              "      <td>158350</td>\n",
              "      <td>Adam Green</td>\n",
              "      <td>Hard to be a girl. \\r\\nSo nice to be a boy. \\r...</td>\n",
              "      <td>Hard to Be a Girl</td>\n",
              "      <td>0.733</td>\n",
              "      <td>8b0d90d6</td>\n",
              "    </tr>\n",
              "    <tr>\n",
              "      <th>158351</th>\n",
              "      <td>158351</td>\n",
              "      <td>Adam Green</td>\n",
              "      <td>I want to chose to die,\\r\\nAnd be buried with ...</td>\n",
              "      <td>I Wanna Die</td>\n",
              "      <td>0.361</td>\n",
              "      <td>6a2b7cde</td>\n",
              "    </tr>\n",
              "    <tr>\n",
              "      <th>158352</th>\n",
              "      <td>158352</td>\n",
              "      <td>Adam Green</td>\n",
              "      <td>Musical ladders\\r\\nLeaning on mountains\\r\\nBat...</td>\n",
              "      <td>Musical Ladders</td>\n",
              "      <td>0.263</td>\n",
              "      <td>b9804ab4</td>\n",
              "    </tr>\n",
              "  </tbody>\n",
              "</table>\n",
              "<p>158353 rows × 6 columns</p>\n",
              "</div>\n",
              "      <button class=\"colab-df-convert\" onclick=\"convertToInteractive('df-b6b8e0cd-343d-4d0b-a24c-85f0967bc262')\"\n",
              "              title=\"Convert this dataframe to an interactive table.\"\n",
              "              style=\"display:none;\">\n",
              "        \n",
              "  <svg xmlns=\"http://www.w3.org/2000/svg\" height=\"24px\"viewBox=\"0 0 24 24\"\n",
              "       width=\"24px\">\n",
              "    <path d=\"M0 0h24v24H0V0z\" fill=\"none\"/>\n",
              "    <path d=\"M18.56 5.44l.94 2.06.94-2.06 2.06-.94-2.06-.94-.94-2.06-.94 2.06-2.06.94zm-11 1L8.5 8.5l.94-2.06 2.06-.94-2.06-.94L8.5 2.5l-.94 2.06-2.06.94zm10 10l.94 2.06.94-2.06 2.06-.94-2.06-.94-.94-2.06-.94 2.06-2.06.94z\"/><path d=\"M17.41 7.96l-1.37-1.37c-.4-.4-.92-.59-1.43-.59-.52 0-1.04.2-1.43.59L10.3 9.45l-7.72 7.72c-.78.78-.78 2.05 0 2.83L4 21.41c.39.39.9.59 1.41.59.51 0 1.02-.2 1.41-.59l7.78-7.78 2.81-2.81c.8-.78.8-2.07 0-2.86zM5.41 20L4 18.59l7.72-7.72 1.47 1.35L5.41 20z\"/>\n",
              "  </svg>\n",
              "      </button>\n",
              "      \n",
              "  <style>\n",
              "    .colab-df-container {\n",
              "      display:flex;\n",
              "      flex-wrap:wrap;\n",
              "      gap: 12px;\n",
              "    }\n",
              "\n",
              "    .colab-df-convert {\n",
              "      background-color: #E8F0FE;\n",
              "      border: none;\n",
              "      border-radius: 50%;\n",
              "      cursor: pointer;\n",
              "      display: none;\n",
              "      fill: #1967D2;\n",
              "      height: 32px;\n",
              "      padding: 0 0 0 0;\n",
              "      width: 32px;\n",
              "    }\n",
              "\n",
              "    .colab-df-convert:hover {\n",
              "      background-color: #E2EBFA;\n",
              "      box-shadow: 0px 1px 2px rgba(60, 64, 67, 0.3), 0px 1px 3px 1px rgba(60, 64, 67, 0.15);\n",
              "      fill: #174EA6;\n",
              "    }\n",
              "\n",
              "    [theme=dark] .colab-df-convert {\n",
              "      background-color: #3B4455;\n",
              "      fill: #D2E3FC;\n",
              "    }\n",
              "\n",
              "    [theme=dark] .colab-df-convert:hover {\n",
              "      background-color: #434B5C;\n",
              "      box-shadow: 0px 1px 3px 1px rgba(0, 0, 0, 0.15);\n",
              "      filter: drop-shadow(0px 1px 2px rgba(0, 0, 0, 0.3));\n",
              "      fill: #FFFFFF;\n",
              "    }\n",
              "  </style>\n",
              "\n",
              "      <script>\n",
              "        const buttonEl =\n",
              "          document.querySelector('#df-b6b8e0cd-343d-4d0b-a24c-85f0967bc262 button.colab-df-convert');\n",
              "        buttonEl.style.display =\n",
              "          google.colab.kernel.accessAllowed ? 'block' : 'none';\n",
              "\n",
              "        async function convertToInteractive(key) {\n",
              "          const element = document.querySelector('#df-b6b8e0cd-343d-4d0b-a24c-85f0967bc262');\n",
              "          const dataTable =\n",
              "            await google.colab.kernel.invokeFunction('convertToInteractive',\n",
              "                                                     [key], {});\n",
              "          if (!dataTable) return;\n",
              "\n",
              "          const docLinkHtml = 'Like what you see? Visit the ' +\n",
              "            '<a target=\"_blank\" href=https://colab.research.google.com/notebooks/data_table.ipynb>data table notebook</a>'\n",
              "            + ' to learn more about interactive tables.';\n",
              "          element.innerHTML = '';\n",
              "          dataTable['output_type'] = 'display_data';\n",
              "          await google.colab.output.renderOutput(dataTable, element);\n",
              "          const docLink = document.createElement('div');\n",
              "          docLink.innerHTML = docLinkHtml;\n",
              "          element.appendChild(docLink);\n",
              "        }\n",
              "      </script>\n",
              "    </div>\n",
              "  </div>\n",
              "  "
            ]
          },
          "metadata": {},
          "execution_count": 252
        }
      ]
    },
    {
      "cell_type": "code",
      "source": [
        "# remove newline characters from seq column\n",
        "dat['seq'] = dat['seq'].str.replace('\\n', ' ')"
      ],
      "metadata": {
        "id": "hGWCn7g-Pp39"
      },
      "execution_count": null,
      "outputs": []
    },
    {
      "cell_type": "code",
      "source": [
        "# create mood column with labels positive and negative based on valence label\n",
        "dat['mood'] = np.where(dat['label'] > 0.5, 'positive', 'negative')"
      ],
      "metadata": {
        "id": "UqWliDBbP1vH"
      },
      "execution_count": null,
      "outputs": []
    },
    {
      "cell_type": "code",
      "source": [
        "# drop any rows with missing data and randomly select 45000 rows\n",
        "dat = dat.dropna()\n",
        "dat = dat.sample(n=45000, random_state=42)"
      ],
      "metadata": {
        "id": "9fKzcrWRQjPD"
      },
      "execution_count": null,
      "outputs": []
    },
    {
      "cell_type": "code",
      "source": [
        "# create new column with cleaned text\n",
        "\n",
        "import nltk\n",
        "from nltk.tokenize import word_tokenize\n",
        "from nltk.corpus import stopwords\n",
        "from nltk.stem import PorterStemmer\n",
        "from nltk.tokenize import RegexpTokenizer\n",
        "import re\n",
        "\n",
        "nltk.download('punkt')\n",
        "nltk.download('stopwords')\n",
        "\n",
        "stop_words = set(stopwords.words('english'))\n",
        "ps = PorterStemmer()\n",
        "tokenizer = RegexpTokenizer(r'\\w+')\n",
        "\n",
        "def preprocess_text(text):\n",
        "    # tokenize the text\n",
        "    tokens = tokenizer.tokenize(text)\n",
        "    # remove stop words\n",
        "    tokens = [token for token in tokens if token.lower() not in stop_words]\n",
        "    # stem words\n",
        "    tokens = [ps.stem(token) for token in tokens]\n",
        "    # join tokens back into text\n",
        "    preprocessed_text = ' '.join(tokens)\n",
        "    return preprocessed_text\n",
        "\n",
        "dat['text_clean'] = dat['seq'].apply(preprocess_text)\n"
      ],
      "metadata": {
        "colab": {
          "base_uri": "https://localhost:8080/"
        },
        "id": "_5Oe-0n0VXsE",
        "outputId": "7f41852a-8446-4e8d-aa85-67d0494de1d2"
      },
      "execution_count": null,
      "outputs": [
        {
          "output_type": "stream",
          "name": "stderr",
          "text": [
            "[nltk_data] Downloading package punkt to /root/nltk_data...\n",
            "[nltk_data]   Package punkt is already up-to-date!\n",
            "[nltk_data] Downloading package stopwords to /root/nltk_data...\n",
            "[nltk_data]   Package stopwords is already up-to-date!\n"
          ]
        }
      ]
    },
    {
      "cell_type": "markdown",
      "source": [
        "#Extract Features"
      ],
      "metadata": {
        "id": "hOOeA6jCaDFR"
      }
    },
    {
      "cell_type": "code",
      "source": [
        "# create document term matrix\n",
        "from sklearn.feature_extraction.text import CountVectorizer\n",
        "\n",
        "vectorizer = CountVectorizer(max_features=800)\n",
        "\n",
        "X = vectorizer.fit_transform(dat['text_clean']).toarray()"
      ],
      "metadata": {
        "id": "SYN-YLOTWG5z"
      },
      "execution_count": null,
      "outputs": []
    },
    {
      "cell_type": "code",
      "source": [
        "dat"
      ],
      "metadata": {
        "colab": {
          "base_uri": "https://localhost:8080/",
          "height": 658
        },
        "id": "-0uVfvEYL7uX",
        "outputId": "fd9814eb-62ab-4411-fc90-d395cb18cad3"
      },
      "execution_count": null,
      "outputs": [
        {
          "output_type": "execute_result",
          "data": {
            "text/plain": [
              "        Unnamed: 0                artist  \\\n",
              "22257        22257             Kataklysm   \n",
              "102069      102069      Four Year Strong   \n",
              "130009      130009            Pretenders   \n",
              "48836        48836          Audio Bullys   \n",
              "108586      108586        The Sugarcubes   \n",
              "...            ...                   ...   \n",
              "1389          1389          Dead to Fall   \n",
              "112991      112991  The Stanley Brothers   \n",
              "84471        84471        Tinted Windows   \n",
              "61532        61532            Jaki Byard   \n",
              "3848          3848          Cashmere Cat   \n",
              "\n",
              "                                                      seq  \\\n",
              "22257   This time we went to far\\r This time we open t...   \n",
              "102069  Doo, doo, doo, doo, doo, doo, doo Doo, doo, do...   \n",
              "130009  When I change my life \\r There'll be no more d...   \n",
              "48836   Urban ego war\\r Urban suburban ego war\\r It's ...   \n",
              "108586  This wasn't supposed to happen,\\r I was happy ...   \n",
              "...                                                   ...   \n",
              "1389    Are we going to die? I think so.\\r Going nowhe...   \n",
              "112991  The storm clouds rise no light in the sky\\r An...   \n",
              "84471   I just want you like it was before\\r But nothi...   \n",
              "61532   Do you know what it means to miss New Orleans\\...   \n",
              "3848    I forgot the feeling\\r The feeling of being al...   \n",
              "\n",
              "                                                     song   label        id  \\\n",
              "22257                                Face the Face of War  0.0397  478b54f2   \n",
              "102069                                  Semi-Charmed Life  0.5010  9650c0e3   \n",
              "130009                              When I Change My Life  0.7490  866f5071   \n",
              "48836   Ego War (Contains Hidden Track 'Somewhere in t...  0.9660  0e2d30de   \n",
              "108586                                                Hit  0.9340  ebc75bc6   \n",
              "...                                                   ...     ...       ...   \n",
              "1389                                    Blood of the Moon  0.1760  8e8c5740   \n",
              "112991                            No Burdens Pass Through  0.5540  882a1915   \n",
              "84471                                        Take Me Back  0.5830  b001447d   \n",
              "61532      Do You Know What It Means to Miss New Orleans?  0.0729  7e03539f   \n",
              "3848                                      Love Incredible  0.2050  bc9fe14e   \n",
              "\n",
              "            mood                                         text_clean  \n",
              "22257   negative  time went far time open scar feel destruct ins...  \n",
              "102069  positive  doo doo doo doo doo doo doo doo doo doo doo do...  \n",
              "130009  positive  chang life disgrac deed past eras forgiv come ...  \n",
              "48836   positive  urban ego war urban suburban ego war ego war s...  \n",
              "108586  positive  suppos happen happi accid seduc love lie bed t...  \n",
              "...          ...                                                ...  \n",
              "1389    negative  go die think go nowher fast know tie beaten to...  \n",
              "112991  positive  storm cloud rise light sky love one gone left ...  \n",
              "84471   positive  want like noth seem work anymor open suggest g...  \n",
              "61532   negative  know mean miss new orlean miss night day know ...  \n",
              "3848    negative  forgot feel feel alon lone guess touch fear se...  \n",
              "\n",
              "[45000 rows x 8 columns]"
            ],
            "text/html": [
              "\n",
              "  <div id=\"df-4e20f5e1-7127-4074-9063-507a5392602e\">\n",
              "    <div class=\"colab-df-container\">\n",
              "      <div>\n",
              "<style scoped>\n",
              "    .dataframe tbody tr th:only-of-type {\n",
              "        vertical-align: middle;\n",
              "    }\n",
              "\n",
              "    .dataframe tbody tr th {\n",
              "        vertical-align: top;\n",
              "    }\n",
              "\n",
              "    .dataframe thead th {\n",
              "        text-align: right;\n",
              "    }\n",
              "</style>\n",
              "<table border=\"1\" class=\"dataframe\">\n",
              "  <thead>\n",
              "    <tr style=\"text-align: right;\">\n",
              "      <th></th>\n",
              "      <th>Unnamed: 0</th>\n",
              "      <th>artist</th>\n",
              "      <th>seq</th>\n",
              "      <th>song</th>\n",
              "      <th>label</th>\n",
              "      <th>id</th>\n",
              "      <th>mood</th>\n",
              "      <th>text_clean</th>\n",
              "    </tr>\n",
              "  </thead>\n",
              "  <tbody>\n",
              "    <tr>\n",
              "      <th>22257</th>\n",
              "      <td>22257</td>\n",
              "      <td>Kataklysm</td>\n",
              "      <td>This time we went to far\\r This time we open t...</td>\n",
              "      <td>Face the Face of War</td>\n",
              "      <td>0.0397</td>\n",
              "      <td>478b54f2</td>\n",
              "      <td>negative</td>\n",
              "      <td>time went far time open scar feel destruct ins...</td>\n",
              "    </tr>\n",
              "    <tr>\n",
              "      <th>102069</th>\n",
              "      <td>102069</td>\n",
              "      <td>Four Year Strong</td>\n",
              "      <td>Doo, doo, doo, doo, doo, doo, doo Doo, doo, do...</td>\n",
              "      <td>Semi-Charmed Life</td>\n",
              "      <td>0.5010</td>\n",
              "      <td>9650c0e3</td>\n",
              "      <td>positive</td>\n",
              "      <td>doo doo doo doo doo doo doo doo doo doo doo do...</td>\n",
              "    </tr>\n",
              "    <tr>\n",
              "      <th>130009</th>\n",
              "      <td>130009</td>\n",
              "      <td>Pretenders</td>\n",
              "      <td>When I change my life \\r There'll be no more d...</td>\n",
              "      <td>When I Change My Life</td>\n",
              "      <td>0.7490</td>\n",
              "      <td>866f5071</td>\n",
              "      <td>positive</td>\n",
              "      <td>chang life disgrac deed past eras forgiv come ...</td>\n",
              "    </tr>\n",
              "    <tr>\n",
              "      <th>48836</th>\n",
              "      <td>48836</td>\n",
              "      <td>Audio Bullys</td>\n",
              "      <td>Urban ego war\\r Urban suburban ego war\\r It's ...</td>\n",
              "      <td>Ego War (Contains Hidden Track 'Somewhere in t...</td>\n",
              "      <td>0.9660</td>\n",
              "      <td>0e2d30de</td>\n",
              "      <td>positive</td>\n",
              "      <td>urban ego war urban suburban ego war ego war s...</td>\n",
              "    </tr>\n",
              "    <tr>\n",
              "      <th>108586</th>\n",
              "      <td>108586</td>\n",
              "      <td>The Sugarcubes</td>\n",
              "      <td>This wasn't supposed to happen,\\r I was happy ...</td>\n",
              "      <td>Hit</td>\n",
              "      <td>0.9340</td>\n",
              "      <td>ebc75bc6</td>\n",
              "      <td>positive</td>\n",
              "      <td>suppos happen happi accid seduc love lie bed t...</td>\n",
              "    </tr>\n",
              "    <tr>\n",
              "      <th>...</th>\n",
              "      <td>...</td>\n",
              "      <td>...</td>\n",
              "      <td>...</td>\n",
              "      <td>...</td>\n",
              "      <td>...</td>\n",
              "      <td>...</td>\n",
              "      <td>...</td>\n",
              "      <td>...</td>\n",
              "    </tr>\n",
              "    <tr>\n",
              "      <th>1389</th>\n",
              "      <td>1389</td>\n",
              "      <td>Dead to Fall</td>\n",
              "      <td>Are we going to die? I think so.\\r Going nowhe...</td>\n",
              "      <td>Blood of the Moon</td>\n",
              "      <td>0.1760</td>\n",
              "      <td>8e8c5740</td>\n",
              "      <td>negative</td>\n",
              "      <td>go die think go nowher fast know tie beaten to...</td>\n",
              "    </tr>\n",
              "    <tr>\n",
              "      <th>112991</th>\n",
              "      <td>112991</td>\n",
              "      <td>The Stanley Brothers</td>\n",
              "      <td>The storm clouds rise no light in the sky\\r An...</td>\n",
              "      <td>No Burdens Pass Through</td>\n",
              "      <td>0.5540</td>\n",
              "      <td>882a1915</td>\n",
              "      <td>positive</td>\n",
              "      <td>storm cloud rise light sky love one gone left ...</td>\n",
              "    </tr>\n",
              "    <tr>\n",
              "      <th>84471</th>\n",
              "      <td>84471</td>\n",
              "      <td>Tinted Windows</td>\n",
              "      <td>I just want you like it was before\\r But nothi...</td>\n",
              "      <td>Take Me Back</td>\n",
              "      <td>0.5830</td>\n",
              "      <td>b001447d</td>\n",
              "      <td>positive</td>\n",
              "      <td>want like noth seem work anymor open suggest g...</td>\n",
              "    </tr>\n",
              "    <tr>\n",
              "      <th>61532</th>\n",
              "      <td>61532</td>\n",
              "      <td>Jaki Byard</td>\n",
              "      <td>Do you know what it means to miss New Orleans\\...</td>\n",
              "      <td>Do You Know What It Means to Miss New Orleans?</td>\n",
              "      <td>0.0729</td>\n",
              "      <td>7e03539f</td>\n",
              "      <td>negative</td>\n",
              "      <td>know mean miss new orlean miss night day know ...</td>\n",
              "    </tr>\n",
              "    <tr>\n",
              "      <th>3848</th>\n",
              "      <td>3848</td>\n",
              "      <td>Cashmere Cat</td>\n",
              "      <td>I forgot the feeling\\r The feeling of being al...</td>\n",
              "      <td>Love Incredible</td>\n",
              "      <td>0.2050</td>\n",
              "      <td>bc9fe14e</td>\n",
              "      <td>negative</td>\n",
              "      <td>forgot feel feel alon lone guess touch fear se...</td>\n",
              "    </tr>\n",
              "  </tbody>\n",
              "</table>\n",
              "<p>45000 rows × 8 columns</p>\n",
              "</div>\n",
              "      <button class=\"colab-df-convert\" onclick=\"convertToInteractive('df-4e20f5e1-7127-4074-9063-507a5392602e')\"\n",
              "              title=\"Convert this dataframe to an interactive table.\"\n",
              "              style=\"display:none;\">\n",
              "        \n",
              "  <svg xmlns=\"http://www.w3.org/2000/svg\" height=\"24px\"viewBox=\"0 0 24 24\"\n",
              "       width=\"24px\">\n",
              "    <path d=\"M0 0h24v24H0V0z\" fill=\"none\"/>\n",
              "    <path d=\"M18.56 5.44l.94 2.06.94-2.06 2.06-.94-2.06-.94-.94-2.06-.94 2.06-2.06.94zm-11 1L8.5 8.5l.94-2.06 2.06-.94-2.06-.94L8.5 2.5l-.94 2.06-2.06.94zm10 10l.94 2.06.94-2.06 2.06-.94-2.06-.94-.94-2.06-.94 2.06-2.06.94z\"/><path d=\"M17.41 7.96l-1.37-1.37c-.4-.4-.92-.59-1.43-.59-.52 0-1.04.2-1.43.59L10.3 9.45l-7.72 7.72c-.78.78-.78 2.05 0 2.83L4 21.41c.39.39.9.59 1.41.59.51 0 1.02-.2 1.41-.59l7.78-7.78 2.81-2.81c.8-.78.8-2.07 0-2.86zM5.41 20L4 18.59l7.72-7.72 1.47 1.35L5.41 20z\"/>\n",
              "  </svg>\n",
              "      </button>\n",
              "      \n",
              "  <style>\n",
              "    .colab-df-container {\n",
              "      display:flex;\n",
              "      flex-wrap:wrap;\n",
              "      gap: 12px;\n",
              "    }\n",
              "\n",
              "    .colab-df-convert {\n",
              "      background-color: #E8F0FE;\n",
              "      border: none;\n",
              "      border-radius: 50%;\n",
              "      cursor: pointer;\n",
              "      display: none;\n",
              "      fill: #1967D2;\n",
              "      height: 32px;\n",
              "      padding: 0 0 0 0;\n",
              "      width: 32px;\n",
              "    }\n",
              "\n",
              "    .colab-df-convert:hover {\n",
              "      background-color: #E2EBFA;\n",
              "      box-shadow: 0px 1px 2px rgba(60, 64, 67, 0.3), 0px 1px 3px 1px rgba(60, 64, 67, 0.15);\n",
              "      fill: #174EA6;\n",
              "    }\n",
              "\n",
              "    [theme=dark] .colab-df-convert {\n",
              "      background-color: #3B4455;\n",
              "      fill: #D2E3FC;\n",
              "    }\n",
              "\n",
              "    [theme=dark] .colab-df-convert:hover {\n",
              "      background-color: #434B5C;\n",
              "      box-shadow: 0px 1px 3px 1px rgba(0, 0, 0, 0.15);\n",
              "      filter: drop-shadow(0px 1px 2px rgba(0, 0, 0, 0.3));\n",
              "      fill: #FFFFFF;\n",
              "    }\n",
              "  </style>\n",
              "\n",
              "      <script>\n",
              "        const buttonEl =\n",
              "          document.querySelector('#df-4e20f5e1-7127-4074-9063-507a5392602e button.colab-df-convert');\n",
              "        buttonEl.style.display =\n",
              "          google.colab.kernel.accessAllowed ? 'block' : 'none';\n",
              "\n",
              "        async function convertToInteractive(key) {\n",
              "          const element = document.querySelector('#df-4e20f5e1-7127-4074-9063-507a5392602e');\n",
              "          const dataTable =\n",
              "            await google.colab.kernel.invokeFunction('convertToInteractive',\n",
              "                                                     [key], {});\n",
              "          if (!dataTable) return;\n",
              "\n",
              "          const docLinkHtml = 'Like what you see? Visit the ' +\n",
              "            '<a target=\"_blank\" href=https://colab.research.google.com/notebooks/data_table.ipynb>data table notebook</a>'\n",
              "            + ' to learn more about interactive tables.';\n",
              "          element.innerHTML = '';\n",
              "          dataTable['output_type'] = 'display_data';\n",
              "          await google.colab.output.renderOutput(dataTable, element);\n",
              "          const docLink = document.createElement('div');\n",
              "          docLink.innerHTML = docLinkHtml;\n",
              "          element.appendChild(docLink);\n",
              "        }\n",
              "      </script>\n",
              "    </div>\n",
              "  </div>\n",
              "  "
            ]
          },
          "metadata": {},
          "execution_count": 258
        }
      ]
    },
    {
      "cell_type": "code",
      "source": [
        "\n",
        "# create document term matrix for Naive bayes for Bernouli converter\n",
        "from sklearn.feature_extraction.text import CountVectorizer\n",
        "\n",
        "vectorizer = CountVectorizer(max_features=800)\n",
        "\n",
        "Y = vectorizer.fit_transform(dat['text_clean']).toarray()\n"
      ],
      "metadata": {
        "id": "ko3JjHJ2g16I"
      },
      "execution_count": null,
      "outputs": []
    },
    {
      "cell_type": "markdown",
      "source": [
        "#Train Models and Display Visualizations"
      ],
      "metadata": {
        "id": "2fd_0eZdcSkM"
      }
    },
    {
      "cell_type": "code",
      "source": [
        "# split the data into training and testing sets\n",
        "from sklearn.model_selection import train_test_split\n",
        "\n",
        "X_train, X_test, y_train, y_test = train_test_split(X, dat['mood'], \n",
        "                                                    test_size=0.20, \n",
        "                                                    random_state=42)"
      ],
      "metadata": {
        "id": "JVPjKI5cWLGs"
      },
      "execution_count": null,
      "outputs": []
    },
    {
      "cell_type": "code",
      "source": [
        "# split the data into training and testing sets for Naive Bayes\n",
        "X_train_nb, X_test_nb, y_train_nb, y_test_nb = train_test_split(Y, dat['mood'], \n",
        "                                                    test_size=0.20, \n",
        "                                                    random_state=42)"
      ],
      "metadata": {
        "id": "w9vtOu83tP8k"
      },
      "execution_count": null,
      "outputs": []
    },
    {
      "cell_type": "code",
      "source": [
        "\n",
        "# convert to binary representation for Naive bayes\n",
        "bernoulli_conv = lambda x: np.array(x>0).astype(int)\n",
        "X_train_nb = np.apply_along_axis(bernoulli_conv, 0, X_train_nb)\n",
        "X_test_nb = np.apply_along_axis(bernoulli_conv, 0, X_test_nb)\n"
      ],
      "metadata": {
        "id": "BkSL5-aFWNQl"
      },
      "execution_count": null,
      "outputs": []
    },
    {
      "cell_type": "code",
      "source": [
        "\n",
        "# train the naive Bayes model\n",
        "from sklearn.naive_bayes import BernoulliNB\n",
        "\n",
        "nb = BernoulliNB(alpha=1, binarize=None, fit_prior=True, class_prior=None)\n",
        "nb.fit(X_train_nb, y_train_nb)\n"
      ],
      "metadata": {
        "colab": {
          "base_uri": "https://localhost:8080/",
          "height": 74
        },
        "id": "AoM7AYdmWROi",
        "outputId": "03eda10e-e666-428d-d365-41b62f82536a"
      },
      "execution_count": null,
      "outputs": [
        {
          "output_type": "execute_result",
          "data": {
            "text/plain": [
              "BernoulliNB(alpha=1, binarize=None)"
            ],
            "text/html": [
              "<style>#sk-container-id-15 {color: black;background-color: white;}#sk-container-id-15 pre{padding: 0;}#sk-container-id-15 div.sk-toggleable {background-color: white;}#sk-container-id-15 label.sk-toggleable__label {cursor: pointer;display: block;width: 100%;margin-bottom: 0;padding: 0.3em;box-sizing: border-box;text-align: center;}#sk-container-id-15 label.sk-toggleable__label-arrow:before {content: \"▸\";float: left;margin-right: 0.25em;color: #696969;}#sk-container-id-15 label.sk-toggleable__label-arrow:hover:before {color: black;}#sk-container-id-15 div.sk-estimator:hover label.sk-toggleable__label-arrow:before {color: black;}#sk-container-id-15 div.sk-toggleable__content {max-height: 0;max-width: 0;overflow: hidden;text-align: left;background-color: #f0f8ff;}#sk-container-id-15 div.sk-toggleable__content pre {margin: 0.2em;color: black;border-radius: 0.25em;background-color: #f0f8ff;}#sk-container-id-15 input.sk-toggleable__control:checked~div.sk-toggleable__content {max-height: 200px;max-width: 100%;overflow: auto;}#sk-container-id-15 input.sk-toggleable__control:checked~label.sk-toggleable__label-arrow:before {content: \"▾\";}#sk-container-id-15 div.sk-estimator input.sk-toggleable__control:checked~label.sk-toggleable__label {background-color: #d4ebff;}#sk-container-id-15 div.sk-label input.sk-toggleable__control:checked~label.sk-toggleable__label {background-color: #d4ebff;}#sk-container-id-15 input.sk-hidden--visually {border: 0;clip: rect(1px 1px 1px 1px);clip: rect(1px, 1px, 1px, 1px);height: 1px;margin: -1px;overflow: hidden;padding: 0;position: absolute;width: 1px;}#sk-container-id-15 div.sk-estimator {font-family: monospace;background-color: #f0f8ff;border: 1px dotted black;border-radius: 0.25em;box-sizing: border-box;margin-bottom: 0.5em;}#sk-container-id-15 div.sk-estimator:hover {background-color: #d4ebff;}#sk-container-id-15 div.sk-parallel-item::after {content: \"\";width: 100%;border-bottom: 1px solid gray;flex-grow: 1;}#sk-container-id-15 div.sk-label:hover label.sk-toggleable__label {background-color: #d4ebff;}#sk-container-id-15 div.sk-serial::before {content: \"\";position: absolute;border-left: 1px solid gray;box-sizing: border-box;top: 0;bottom: 0;left: 50%;z-index: 0;}#sk-container-id-15 div.sk-serial {display: flex;flex-direction: column;align-items: center;background-color: white;padding-right: 0.2em;padding-left: 0.2em;position: relative;}#sk-container-id-15 div.sk-item {position: relative;z-index: 1;}#sk-container-id-15 div.sk-parallel {display: flex;align-items: stretch;justify-content: center;background-color: white;position: relative;}#sk-container-id-15 div.sk-item::before, #sk-container-id-15 div.sk-parallel-item::before {content: \"\";position: absolute;border-left: 1px solid gray;box-sizing: border-box;top: 0;bottom: 0;left: 50%;z-index: -1;}#sk-container-id-15 div.sk-parallel-item {display: flex;flex-direction: column;z-index: 1;position: relative;background-color: white;}#sk-container-id-15 div.sk-parallel-item:first-child::after {align-self: flex-end;width: 50%;}#sk-container-id-15 div.sk-parallel-item:last-child::after {align-self: flex-start;width: 50%;}#sk-container-id-15 div.sk-parallel-item:only-child::after {width: 0;}#sk-container-id-15 div.sk-dashed-wrapped {border: 1px dashed gray;margin: 0 0.4em 0.5em 0.4em;box-sizing: border-box;padding-bottom: 0.4em;background-color: white;}#sk-container-id-15 div.sk-label label {font-family: monospace;font-weight: bold;display: inline-block;line-height: 1.2em;}#sk-container-id-15 div.sk-label-container {text-align: center;}#sk-container-id-15 div.sk-container {/* jupyter's `normalize.less` sets `[hidden] { display: none; }` but bootstrap.min.css set `[hidden] { display: none !important; }` so we also need the `!important` here to be able to override the default hidden behavior on the sphinx rendered scikit-learn.org. See: https://github.com/scikit-learn/scikit-learn/issues/21755 */display: inline-block !important;position: relative;}#sk-container-id-15 div.sk-text-repr-fallback {display: none;}</style><div id=\"sk-container-id-15\" class=\"sk-top-container\"><div class=\"sk-text-repr-fallback\"><pre>BernoulliNB(alpha=1, binarize=None)</pre><b>In a Jupyter environment, please rerun this cell to show the HTML representation or trust the notebook. <br />On GitHub, the HTML representation is unable to render, please try loading this page with nbviewer.org.</b></div><div class=\"sk-container\" hidden><div class=\"sk-item\"><div class=\"sk-estimator sk-toggleable\"><input class=\"sk-toggleable__control sk-hidden--visually\" id=\"sk-estimator-id-15\" type=\"checkbox\" checked><label for=\"sk-estimator-id-15\" class=\"sk-toggleable__label sk-toggleable__label-arrow\">BernoulliNB</label><div class=\"sk-toggleable__content\"><pre>BernoulliNB(alpha=1, binarize=None)</pre></div></div></div></div></div>"
            ]
          },
          "metadata": {},
          "execution_count": 263
        }
      ]
    },
    {
      "cell_type": "code",
      "source": [
        "\n",
        "# predict on the test data\n",
        "y_pred_nb = nb.predict(X_test_nb)\n"
      ],
      "metadata": {
        "id": "ssT-MMG4WZHI"
      },
      "execution_count": null,
      "outputs": []
    },
    {
      "cell_type": "code",
      "source": [
        "# print the confusion matrix\n",
        "cm_nb = confusion_matrix(y_test_nb, y_pred_nb, labels=['positive', 'negative'])\n",
        "print(\"Naive Bayes Metrics\")\n",
        "disp=ConfusionMatrixDisplay(confusion_matrix=cm_nb,display_labels=['positive', 'negative'])\n",
        "disp.plot()\n",
        "plt.show()\n",
        "print()\n",
        "print(\"Accuracy score: \"+str(accuracy_score(y_test_nb, y_pred_nb)))\n",
        "print(\"Precision_score: \"+str(precision_score(y_test_nb, y_pred_nb,average='macro')))\n",
        "print(\"Recall score: \"+str(recall_score(y_test_nb, y_pred_nb,average='macro')))\n",
        "print('F1 Score: '+ str(f1_score(y_test_nb, y_pred_nb,average='weighted')))\n"
      ],
      "metadata": {
        "colab": {
          "base_uri": "https://localhost:8080/",
          "height": 553
        },
        "id": "J4km2V-mWb3G",
        "outputId": "ab6f872b-5050-449f-b09c-794ae50ec09a"
      },
      "execution_count": null,
      "outputs": [
        {
          "output_type": "stream",
          "name": "stdout",
          "text": [
            "Naive Bayes Metrics\n"
          ]
        },
        {
          "output_type": "display_data",
          "data": {
            "text/plain": [
              "<Figure size 640x480 with 2 Axes>"
            ],
            "image/png": "[encoded data removed]"
          },
          "metadata": {}
        },
        {
          "output_type": "stream",
          "name": "stdout",
          "text": [
            "\n",
            "Accuracy score: 0.6414444444444445\n",
            "Precision_score: 0.6441989002864426\n",
            "Recall score: 0.6357338032631079\n",
            "F1 Score: 0.6360774503654624\n"
          ]
        }
      ]
    },
    {
      "cell_type": "code",
      "source": [
        "# train the Decision Tree MOdel\n",
        "dt_clf = DecisionTreeClassifier(random_state=42)\n",
        "dt_clf.fit(X_train, y_train)"
      ],
      "metadata": {
        "colab": {
          "base_uri": "https://localhost:8080/",
          "height": 74
        },
        "id": "ddQrLjDK9Glc",
        "outputId": "8b256bae-9899-46c6-a84f-07435c7e16df"
      },
      "execution_count": null,
      "outputs": [
        {
          "output_type": "execute_result",
          "data": {
            "text/plain": [
              "DecisionTreeClassifier(random_state=42)"
            ],
            "text/html": [
              "<style>#sk-container-id-16 {color: black;background-color: white;}#sk-container-id-16 pre{padding: 0;}#sk-container-id-16 div.sk-toggleable {background-color: white;}#sk-container-id-16 label.sk-toggleable__label {cursor: pointer;display: block;width: 100%;margin-bottom: 0;padding: 0.3em;box-sizing: border-box;text-align: center;}#sk-container-id-16 label.sk-toggleable__label-arrow:before {content: \"▸\";float: left;margin-right: 0.25em;color: #696969;}#sk-container-id-16 label.sk-toggleable__label-arrow:hover:before {color: black;}#sk-container-id-16 div.sk-estimator:hover label.sk-toggleable__label-arrow:before {color: black;}#sk-container-id-16 div.sk-toggleable__content {max-height: 0;max-width: 0;overflow: hidden;text-align: left;background-color: #f0f8ff;}#sk-container-id-16 div.sk-toggleable__content pre {margin: 0.2em;color: black;border-radius: 0.25em;background-color: #f0f8ff;}#sk-container-id-16 input.sk-toggleable__control:checked~div.sk-toggleable__content {max-height: 200px;max-width: 100%;overflow: auto;}#sk-container-id-16 input.sk-toggleable__control:checked~label.sk-toggleable__label-arrow:before {content: \"▾\";}#sk-container-id-16 div.sk-estimator input.sk-toggleable__control:checked~label.sk-toggleable__label {background-color: #d4ebff;}#sk-container-id-16 div.sk-label input.sk-toggleable__control:checked~label.sk-toggleable__label {background-color: #d4ebff;}#sk-container-id-16 input.sk-hidden--visually {border: 0;clip: rect(1px 1px 1px 1px);clip: rect(1px, 1px, 1px, 1px);height: 1px;margin: -1px;overflow: hidden;padding: 0;position: absolute;width: 1px;}#sk-container-id-16 div.sk-estimator {font-family: monospace;background-color: #f0f8ff;border: 1px dotted black;border-radius: 0.25em;box-sizing: border-box;margin-bottom: 0.5em;}#sk-container-id-16 div.sk-estimator:hover {background-color: #d4ebff;}#sk-container-id-16 div.sk-parallel-item::after {content: \"\";width: 100%;border-bottom: 1px solid gray;flex-grow: 1;}#sk-container-id-16 div.sk-label:hover label.sk-toggleable__label {background-color: #d4ebff;}#sk-container-id-16 div.sk-serial::before {content: \"\";position: absolute;border-left: 1px solid gray;box-sizing: border-box;top: 0;bottom: 0;left: 50%;z-index: 0;}#sk-container-id-16 div.sk-serial {display: flex;flex-direction: column;align-items: center;background-color: white;padding-right: 0.2em;padding-left: 0.2em;position: relative;}#sk-container-id-16 div.sk-item {position: relative;z-index: 1;}#sk-container-id-16 div.sk-parallel {display: flex;align-items: stretch;justify-content: center;background-color: white;position: relative;}#sk-container-id-16 div.sk-item::before, #sk-container-id-16 div.sk-parallel-item::before {content: \"\";position: absolute;border-left: 1px solid gray;box-sizing: border-box;top: 0;bottom: 0;left: 50%;z-index: -1;}#sk-container-id-16 div.sk-parallel-item {display: flex;flex-direction: column;z-index: 1;position: relative;background-color: white;}#sk-container-id-16 div.sk-parallel-item:first-child::after {align-self: flex-end;width: 50%;}#sk-container-id-16 div.sk-parallel-item:last-child::after {align-self: flex-start;width: 50%;}#sk-container-id-16 div.sk-parallel-item:only-child::after {width: 0;}#sk-container-id-16 div.sk-dashed-wrapped {border: 1px dashed gray;margin: 0 0.4em 0.5em 0.4em;box-sizing: border-box;padding-bottom: 0.4em;background-color: white;}#sk-container-id-16 div.sk-label label {font-family: monospace;font-weight: bold;display: inline-block;line-height: 1.2em;}#sk-container-id-16 div.sk-label-container {text-align: center;}#sk-container-id-16 div.sk-container {/* jupyter's `normalize.less` sets `[hidden] { display: none; }` but bootstrap.min.css set `[hidden] { display: none !important; }` so we also need the `!important` here to be able to override the default hidden behavior on the sphinx rendered scikit-learn.org. See: https://github.com/scikit-learn/scikit-learn/issues/21755 */display: inline-block !important;position: relative;}#sk-container-id-16 div.sk-text-repr-fallback {display: none;}</style><div id=\"sk-container-id-16\" class=\"sk-top-container\"><div class=\"sk-text-repr-fallback\"><pre>DecisionTreeClassifier(random_state=42)</pre><b>In a Jupyter environment, please rerun this cell to show the HTML representation or trust the notebook. <br />On GitHub, the HTML representation is unable to render, please try loading this page with nbviewer.org.</b></div><div class=\"sk-container\" hidden><div class=\"sk-item\"><div class=\"sk-estimator sk-toggleable\"><input class=\"sk-toggleable__control sk-hidden--visually\" id=\"sk-estimator-id-16\" type=\"checkbox\" checked><label for=\"sk-estimator-id-16\" class=\"sk-toggleable__label sk-toggleable__label-arrow\">DecisionTreeClassifier</label><div class=\"sk-toggleable__content\"><pre>DecisionTreeClassifier(random_state=42)</pre></div></div></div></div></div>"
            ]
          },
          "metadata": {},
          "execution_count": 266
        }
      ]
    },
    {
      "cell_type": "code",
      "source": [
        "# predict on the test data\n",
        "y_pred_dt = dt_clf.predict(X_test)"
      ],
      "metadata": {
        "id": "PUH8rwKg9nwl"
      },
      "execution_count": null,
      "outputs": []
    },
    {
      "cell_type": "code",
      "source": [
        "# print the confusion matrix\n",
        "cm_dt = confusion_matrix(y_test, y_pred_dt, labels=['positive', 'negative'])\n",
        "print(\"Decision Tree Metrics\")\n",
        "#print_metrics(classifier, prediction, test_transformer, test_labels_error, classifier_name)\n",
        "disp=ConfusionMatrixDisplay(confusion_matrix=cm_dt,display_labels=['positive', 'negative'])\n",
        "disp.plot()\n",
        "plt.show()\n",
        "print()\n",
        "print(\"Accuracy score: \"+str(accuracy_score(y_test, y_pred_dt)))\n",
        "print(\"Precision_score: \"+str(precision_score(y_test, y_pred_dt,average='macro')))\n",
        "print(\"Recall score: \"+str(recall_score(y_test, y_pred_dt,average='macro')))\n",
        "print('F1 Score: '+ str(f1_score(y_test, y_pred_dt,average='weighted')))"
      ],
      "metadata": {
        "colab": {
          "base_uri": "https://localhost:8080/",
          "height": 553
        },
        "id": "HU5jDQSbMhhH",
        "outputId": "f01777f9-a2f6-4f6c-b4b9-04c0b7620823"
      },
      "execution_count": null,
      "outputs": [
        {
          "output_type": "stream",
          "name": "stdout",
          "text": [
            "Decision Tree Metrics\n"
          ]
        },
        {
          "output_type": "display_data",
          "data": {
            "text/plain": [
              "<Figure size 640x480 with 2 Axes>"
            ],
            "image/png": "[encoded data removed]"
          },
          "metadata": {}
        },
        {
          "output_type": "stream",
          "name": "stdout",
          "text": [
            "\n",
            "Accuracy score: 0.5813333333333334\n",
            "Precision_score: 0.5802229102167182\n",
            "Recall score: 0.5801669174718833\n",
            "F1 Score: 0.5812602550247115\n"
          ]
        }
      ]
    },
    {
      "cell_type": "markdown",
      "source": [
        "#The accuracy of predicting the mood of a song using classification is too low to consider using it in the final deliverable. The accuracy for both Naive Bayes and Decision Trees are too low so we are going to continue with using valance instead for our recommender system."
      ],
      "metadata": {
        "id": "VPvNA7HcdMdd"
      }
    }
  ]
}